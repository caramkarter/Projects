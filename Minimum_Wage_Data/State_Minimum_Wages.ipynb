{
 "cells": [
  {
   "cell_type": "markdown",
   "id": "77966de1",
   "metadata": {},
   "source": [
    "# Pulling and cleaning the state minimum wage data\n",
    "\n",
    "CNMI is Mariana Islands"
   ]
  },
  {
   "cell_type": "code",
   "execution_count": 1,
   "id": "802c6fd7",
   "metadata": {
    "scrolled": true
   },
   "outputs": [
    {
     "name": "stdout",
     "output_type": "stream",
     "text": [
      "        Greater than federal MW Equals federal MW of $7.25 No MW Required\n",
      "0                     AK $10.85                       CNMI             AL\n",
      "1                     AR $11.00                         GA             LA\n",
      "2                     AZ $13.85                         IA             MS\n",
      "3                     CA $15.50                         ID             SC\n",
      "4                     CO $13.65                         IN             TN\n",
      "5                     CT $14.00                         KS            NaN\n",
      "6                     DC $16.50                         KY            NaN\n",
      "7                     DE $11.75                         NC            NaN\n",
      "8                     FL $11.00                         ND            NaN\n",
      "9                     HI $12.00                         NH            NaN\n",
      "10                    IL $13.00                         OK            NaN\n",
      "11                    MA $15.00                         PA            NaN\n",
      "12                    MD $13.25                         TX            NaN\n",
      "13                    ME $13.80                         UT            NaN\n",
      "14                    MI $10.10                         WI            NaN\n",
      "15                    MN $10.59                         WY            NaN\n",
      "16                    MO $12.00                        NaN            NaN\n",
      "17                     MT $9.95                        NaN            NaN\n",
      "18                    NE $10.50                        NaN            NaN\n",
      "19                    NJ $14.13                        NaN            NaN\n",
      "20                    NM $12.00                        NaN            NaN\n",
      "21               NV $10.50/9.50                        NaN            NaN\n",
      "22                    NY $14.20                        NaN            NaN\n",
      "23                    OH $10.10                        NaN            NaN\n",
      "24                    OR $13.50                        NaN            NaN\n",
      "25                     PR $8.50                        NaN            NaN\n",
      "26                    RI $13.00                        NaN            NaN\n",
      "27                    SD $10.80                        NaN            NaN\n",
      "28                    VA $12.00                        NaN            NaN\n",
      "29                    VT $13.18                        NaN            NaN\n",
      "30                    WA $15.74                        NaN            NaN\n",
      "31                     WV $8.75                        NaN            NaN\n",
      "32                    VI $10.50                        NaN            NaN\n",
      "33                     GU $9.25                        NaN            NaN\n",
      "34  30 States + DC, GU, PR & VI           15 States + CNMI       5 States\n"
     ]
    }
   ],
   "source": [
    "# Load packages\n",
    "import requests\n",
    "from matplotlib import pyplot as plt\n",
    "import pandas as pd\n",
    "import numpy as np\n",
    "\n",
    "# Scrape state minimum wage data and save to a data frame\n",
    "url = 'https://www.dol.gov/agencies/whd/mw-consolidated'\n",
    "html = requests.get(url).content\n",
    "df_list = pd.read_html(html)\n",
    "original = df_list[0]\n",
    "print(original)"
   ]
  },
  {
   "cell_type": "code",
   "execution_count": 2,
   "id": "1bbed696",
   "metadata": {},
   "outputs": [
    {
     "data": {
      "text/html": [
       "<div>\n",
       "<style scoped>\n",
       "    .dataframe tbody tr th:only-of-type {\n",
       "        vertical-align: middle;\n",
       "    }\n",
       "\n",
       "    .dataframe tbody tr th {\n",
       "        vertical-align: top;\n",
       "    }\n",
       "\n",
       "    .dataframe thead th {\n",
       "        text-align: right;\n",
       "    }\n",
       "</style>\n",
       "<table border=\"1\" class=\"dataframe\">\n",
       "  <thead>\n",
       "    <tr style=\"text-align: right;\">\n",
       "      <th></th>\n",
       "      <th>state_specific</th>\n",
       "      <th>federal</th>\n",
       "      <th>none</th>\n",
       "    </tr>\n",
       "  </thead>\n",
       "  <tbody>\n",
       "    <tr>\n",
       "      <th>0</th>\n",
       "      <td>AK $10.85</td>\n",
       "      <td>CNMI</td>\n",
       "      <td>AL</td>\n",
       "    </tr>\n",
       "    <tr>\n",
       "      <th>1</th>\n",
       "      <td>AR $11.00</td>\n",
       "      <td>GA</td>\n",
       "      <td>LA</td>\n",
       "    </tr>\n",
       "    <tr>\n",
       "      <th>2</th>\n",
       "      <td>AZ $13.85</td>\n",
       "      <td>IA</td>\n",
       "      <td>MS</td>\n",
       "    </tr>\n",
       "    <tr>\n",
       "      <th>3</th>\n",
       "      <td>CA $15.50</td>\n",
       "      <td>ID</td>\n",
       "      <td>SC</td>\n",
       "    </tr>\n",
       "    <tr>\n",
       "      <th>4</th>\n",
       "      <td>CO $13.65</td>\n",
       "      <td>IN</td>\n",
       "      <td>TN</td>\n",
       "    </tr>\n",
       "  </tbody>\n",
       "</table>\n",
       "</div>"
      ],
      "text/plain": [
       "  state_specific federal none\n",
       "0      AK $10.85    CNMI   AL\n",
       "1      AR $11.00      GA   LA\n",
       "2      AZ $13.85      IA   MS\n",
       "3      CA $15.50      ID   SC\n",
       "4      CO $13.65      IN   TN"
      ]
     },
     "execution_count": 2,
     "metadata": {},
     "output_type": "execute_result"
    }
   ],
   "source": [
    "# Rename column headers\n",
    "original.columns = ['state_specific', 'federal', 'none']\n",
    "original.head()"
   ]
  },
  {
   "cell_type": "code",
   "execution_count": 3,
   "id": "41acdf20",
   "metadata": {
    "scrolled": true
   },
   "outputs": [
    {
     "name": "stdout",
     "output_type": "stream",
     "text": [
      "   state    specific federal none\n",
      "0    AK        10.85    CNMI   AL\n",
      "1    AR        11.00      GA   LA\n",
      "2    AZ        13.85      IA   MS\n",
      "3    CA        15.50      ID   SC\n",
      "4    CO        13.65      IN   TN\n",
      "5    CT        14.00      KS  NaN\n",
      "6    DC        16.50      KY  NaN\n",
      "7    DE        11.75      NC  NaN\n",
      "8    FL        11.00      ND  NaN\n",
      "9    HI        12.00      NH  NaN\n",
      "10   IL        13.00      OK  NaN\n",
      "11   MA        15.00      PA  NaN\n",
      "12   MD        13.25      TX  NaN\n",
      "13   ME        13.80      UT  NaN\n",
      "14   MI        10.10      WI  NaN\n",
      "15   MN        10.59      WY  NaN\n",
      "16   MO        12.00     NaN  NaN\n",
      "17   MT         9.95     NaN  NaN\n",
      "18   NE        10.50     NaN  NaN\n",
      "19   NJ        14.13     NaN  NaN\n",
      "20   NM        12.00     NaN  NaN\n",
      "21   NV   10.50/9.50     NaN  NaN\n",
      "22   NY        14.20     NaN  NaN\n",
      "23   OH        10.10     NaN  NaN\n",
      "24   OR        13.50     NaN  NaN\n",
      "25   PR         8.50     NaN  NaN\n",
      "26   RI        13.00     NaN  NaN\n",
      "27   SD        10.80     NaN  NaN\n",
      "28   VA        12.00     NaN  NaN\n",
      "29   VT        13.18     NaN  NaN\n",
      "30   WA        15.74     NaN  NaN\n",
      "31   WV         8.75     NaN  NaN\n",
      "32   VI        10.50     NaN  NaN\n",
      "33   GU         9.25     NaN  NaN\n"
     ]
    }
   ],
   "source": [
    "# Split first column into two new columns\n",
    "original[['state', 'specific']] = original.state_specific.str.split(\"$\", expand = True)\n",
    "\n",
    "# Move state to first column\n",
    "original = original[['state', 'specific', 'federal', 'none']]\n",
    "\n",
    "# Drop the last row that had the subtotals\n",
    "original = original[:-1]\n",
    "\n",
    "print(original)"
   ]
  },
  {
   "cell_type": "code",
   "execution_count": 4,
   "id": "ea79b3a0",
   "metadata": {
    "scrolled": true
   },
   "outputs": [
    {
     "name": "stderr",
     "output_type": "stream",
     "text": [
      "/var/folders/xc/1yxv29253_19pst1hxznjt8m0000gn/T/ipykernel_83432/981066343.py:10: SettingWithCopyWarning: \n",
      "A value is trying to be set on a copy of a slice from a DataFrame.\n",
      "Try using .loc[row_indexer,col_indexer] = value instead\n",
      "\n",
      "See the caveats in the documentation: https://pandas.pydata.org/pandas-docs/stable/user_guide/indexing.html#returning-a-view-versus-a-copy\n",
      "  df2['wage'] = '7.25'\n",
      "/var/folders/xc/1yxv29253_19pst1hxznjt8m0000gn/T/ipykernel_83432/981066343.py:15: SettingWithCopyWarning: \n",
      "A value is trying to be set on a copy of a slice from a DataFrame.\n",
      "Try using .loc[row_indexer,col_indexer] = value instead\n",
      "\n",
      "See the caveats in the documentation: https://pandas.pydata.org/pandas-docs/stable/user_guide/indexing.html#returning-a-view-versus-a-copy\n",
      "  df3['wage'] = '7.25'\n"
     ]
    }
   ],
   "source": [
    "# Create three data frames to later append to each other\n",
    "\n",
    "# Create data frame with states with state-specific mws\n",
    "df1 = original[['state','specific']]\n",
    "df1.columns = ['state','wage']\n",
    "\n",
    "# Create data frame with states with federal mws\n",
    "df2 = original[['federal']]\n",
    "df2.columns = ['state']\n",
    "df2['wage'] = '7.25'\n",
    "\n",
    "# Create data frame with states with no mws\n",
    "df3 = original[['none']]\n",
    "df3.columns = ['state']\n",
    "df3['wage'] = '7.25'"
   ]
  },
  {
   "cell_type": "code",
   "execution_count": 5,
   "id": "d98870fc",
   "metadata": {},
   "outputs": [
    {
     "name": "stdout",
     "output_type": "stream",
     "text": [
      "   state        wage\n",
      "0    AK        10.85\n",
      "1     AL        7.25\n",
      "2    AR        11.00\n",
      "3    AZ        13.85\n",
      "4    CA        15.50\n",
      "5   CNMI        7.25\n",
      "6    CO        13.65\n",
      "7    CT        14.00\n",
      "8    DC        16.50\n",
      "9    DE        11.75\n",
      "10   FL        11.00\n",
      "11    GA        7.25\n",
      "12   GU         9.25\n",
      "13   HI        12.00\n",
      "14    IA        7.25\n",
      "15    ID        7.25\n",
      "16   IL        13.00\n",
      "17    IN        7.25\n",
      "18    KS        7.25\n",
      "19    KY        7.25\n",
      "20    LA        7.25\n",
      "21   MA        15.00\n",
      "22   MD        13.25\n",
      "23   ME        13.80\n",
      "24   MI        10.10\n",
      "25   MN        10.59\n",
      "26   MO        12.00\n",
      "27    MS        7.25\n",
      "28   MT         9.95\n",
      "29    NC        7.25\n",
      "30    ND        7.25\n",
      "31   NE        10.50\n",
      "32    NH        7.25\n",
      "33   NJ        14.13\n",
      "34   NM        12.00\n",
      "35   NV   10.50/9.50\n",
      "36   NY        14.20\n",
      "37   OH        10.10\n",
      "38    OK        7.25\n",
      "39   OR        13.50\n",
      "40    PA        7.25\n",
      "41   PR         8.50\n",
      "42   RI        13.00\n",
      "43    SC        7.25\n",
      "44   SD        10.80\n",
      "45    TN        7.25\n",
      "46    TX        7.25\n",
      "47    UT        7.25\n",
      "48   VA        12.00\n",
      "49   VI        10.50\n",
      "50   VT        13.18\n",
      "51   WA        15.74\n",
      "52    WI        7.25\n",
      "53   WV         8.75\n",
      "54    WY        7.25\n"
     ]
    }
   ],
   "source": [
    "# Append the data frames into one \n",
    "df = pd.concat([df1, df2, df3])\n",
    "df = df.dropna()\n",
    "\n",
    "# Sort data alphabetially by state\n",
    "df.sort_values('state', inplace=True, ascending=True)\n",
    "\n",
    "# Reset index\n",
    "df.reset_index(drop=True, inplace=True)\n",
    "\n",
    "print(df)"
   ]
  },
  {
   "cell_type": "code",
   "execution_count": 6,
   "id": "ada6934c",
   "metadata": {},
   "outputs": [
    {
     "name": "stdout",
     "output_type": "stream",
     "text": [
      "   state   wage\n",
      "0    AK   10.85\n",
      "1     AL   7.25\n",
      "2    AR   11.00\n",
      "3    AZ   13.85\n",
      "4    CA   15.50\n",
      "5   CNMI   7.25\n",
      "6    CO   13.65\n",
      "7    CT   14.00\n",
      "8    DC   16.50\n",
      "9    DE   11.75\n",
      "10   FL   11.00\n",
      "11    GA   7.25\n",
      "12   GU    9.25\n",
      "13   HI   12.00\n",
      "14    IA   7.25\n",
      "15    ID   7.25\n",
      "16   IL   13.00\n",
      "17    IN   7.25\n",
      "18    KS   7.25\n",
      "19    KY   7.25\n",
      "20    LA   7.25\n",
      "21   MA   15.00\n",
      "22   MD   13.25\n",
      "23   ME   13.80\n",
      "24   MI   10.10\n",
      "25   MN   10.59\n",
      "26   MO   12.00\n",
      "27    MS   7.25\n",
      "28   MT    9.95\n",
      "29    NC   7.25\n",
      "30    ND   7.25\n",
      "31   NE   10.50\n",
      "32    NH   7.25\n",
      "33   NJ   14.13\n",
      "34   NM   12.00\n",
      "35   NV   10.50\n",
      "36   NY   14.20\n",
      "37   OH   10.10\n",
      "38    OK   7.25\n",
      "39   OR   13.50\n",
      "40    PA   7.25\n",
      "41   PR    8.50\n",
      "42   RI   13.00\n",
      "43    SC   7.25\n",
      "44   SD   10.80\n",
      "45    TN   7.25\n",
      "46    TX   7.25\n",
      "47    UT   7.25\n",
      "48   VA   12.00\n",
      "49   VI   10.50\n",
      "50   VT   13.18\n",
      "51   WA   15.74\n",
      "52    WI   7.25\n",
      "53   WV    8.75\n",
      "54    WY   7.25\n"
     ]
    }
   ],
   "source": [
    "# Reassign NV minimum wage as the higher of the two for simplicity\n",
    "df.wage[df.wage=='10.50/9.50'] = '10.50'\n",
    "\n",
    "print(df)"
   ]
  },
  {
   "cell_type": "code",
   "execution_count": 7,
   "id": "c6c30a9f",
   "metadata": {},
   "outputs": [
    {
     "data": {
      "text/plain": [
       "state     object\n",
       "wage     float64\n",
       "dtype: object"
      ]
     },
     "execution_count": 7,
     "metadata": {},
     "output_type": "execute_result"
    }
   ],
   "source": [
    "# Recast the wage column as float data type for easy numeric analysis\n",
    "df['wage'] = df['wage'].astype(float)\n",
    "\n",
    "df.dtypes"
   ]
  },
  {
   "cell_type": "code",
   "execution_count": 8,
   "id": "bd014144",
   "metadata": {},
   "outputs": [
    {
     "data": {
      "text/html": [
       "<div>\n",
       "<style scoped>\n",
       "    .dataframe tbody tr th:only-of-type {\n",
       "        vertical-align: middle;\n",
       "    }\n",
       "\n",
       "    .dataframe tbody tr th {\n",
       "        vertical-align: top;\n",
       "    }\n",
       "\n",
       "    .dataframe thead th {\n",
       "        text-align: right;\n",
       "    }\n",
       "</style>\n",
       "<table border=\"1\" class=\"dataframe\">\n",
       "  <thead>\n",
       "    <tr style=\"text-align: right;\">\n",
       "      <th></th>\n",
       "      <th>wage</th>\n",
       "    </tr>\n",
       "  </thead>\n",
       "  <tbody>\n",
       "    <tr>\n",
       "      <th>count</th>\n",
       "      <td>55.000000</td>\n",
       "    </tr>\n",
       "    <tr>\n",
       "      <th>mean</th>\n",
       "      <td>10.303455</td>\n",
       "    </tr>\n",
       "    <tr>\n",
       "      <th>std</th>\n",
       "      <td>2.906961</td>\n",
       "    </tr>\n",
       "    <tr>\n",
       "      <th>min</th>\n",
       "      <td>7.250000</td>\n",
       "    </tr>\n",
       "    <tr>\n",
       "      <th>25%</th>\n",
       "      <td>7.250000</td>\n",
       "    </tr>\n",
       "    <tr>\n",
       "      <th>50%</th>\n",
       "      <td>10.500000</td>\n",
       "    </tr>\n",
       "    <tr>\n",
       "      <th>75%</th>\n",
       "      <td>13.000000</td>\n",
       "    </tr>\n",
       "    <tr>\n",
       "      <th>max</th>\n",
       "      <td>16.500000</td>\n",
       "    </tr>\n",
       "  </tbody>\n",
       "</table>\n",
       "</div>"
      ],
      "text/plain": [
       "            wage\n",
       "count  55.000000\n",
       "mean   10.303455\n",
       "std     2.906961\n",
       "min     7.250000\n",
       "25%     7.250000\n",
       "50%    10.500000\n",
       "75%    13.000000\n",
       "max    16.500000"
      ]
     },
     "execution_count": 8,
     "metadata": {},
     "output_type": "execute_result"
    }
   ],
   "source": [
    "# get basic descriptives for wages\n",
    "df.describe()"
   ]
  },
  {
   "cell_type": "code",
   "execution_count": 14,
   "id": "43c34238",
   "metadata": {},
   "outputs": [
    {
     "data": {
      "text/plain": [
       "<seaborn.axisgrid.FacetGrid at 0x7f83a0d96220>"
      ]
     },
     "execution_count": 14,
     "metadata": {},
     "output_type": "execute_result"
    },
    {
     "data": {
      "image/png": "[encoded data removed]",
      "text/plain": [
       "<Figure size 360x360 with 1 Axes>"
      ]
     },
     "metadata": {
      "needs_background": "light"
     },
     "output_type": "display_data"
    }
   ],
   "source": [
    "import seaborn as sns \n",
    "\n",
    "sns.displot(df, x = df['wage'], bins=20)"
   ]
  },
  {
   "cell_type": "markdown",
   "id": "e1ad9dc1",
   "metadata": {},
   "source": [
    "# Add in BBCE SNAP data\n",
    "\n",
    "Now let's scrape the BBCE table from USDA for information about the state BBCE policies. \n",
    "\n",
    "I want to see if there is a correlation between states using BBCE and those with modified mi"
   ]
  }
 ],
 "metadata": {
  "kernelspec": {
   "display_name": "Python 3 (ipykernel)",
   "language": "python",
   "name": "python3"
  },
  "language_info": {
   "codemirror_mode": {
    "name": "ipython",
    "version": 3
   },
   "file_extension": ".py",
   "mimetype": "text/x-python",
   "name": "python",
   "nbconvert_exporter": "python",
   "pygments_lexer": "ipython3",
   "version": "3.9.12"
  }
 },
 "nbformat": 4,
 "nbformat_minor": 5
}
