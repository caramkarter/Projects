{
 "cells": [
  {
   "cell_type": "markdown",
   "id": "cdb5d9bc",
   "metadata": {},
   "source": [
    "# Multilevel Model of Program Outcomes"
   ]
  },
  {
   "cell_type": "code",
   "execution_count": null,
   "id": "ecca2dde",
   "metadata": {},
   "outputs": [],
   "source": [
    "# Work through tutorial first: https://www.pythonfordatascience.org/mixed-effects-regression-python/"
   ]
  },
  {
   "cell_type": "code",
   "execution_count": 11,
   "id": "266873ef",
   "metadata": {},
   "outputs": [
    {
     "name": "stdout",
     "output_type": "stream",
     "text": [
      "<class 'pandas.core.frame.DataFrame'>\n",
      "RangeIndex: 322 entries, 0 to 321\n",
      "Data columns (total 6 columns):\n",
      " #   Column     Non-Null Count  Dtype  \n",
      "---  ------     --------------  -----  \n",
      " 0   pup_id     322 non-null    int64  \n",
      " 1   weight     322 non-null    float64\n",
      " 2   sex        322 non-null    object \n",
      " 3   litter     322 non-null    int64  \n",
      " 4   litsize    322 non-null    int64  \n",
      " 5   treatment  322 non-null    object \n",
      "dtypes: float64(1), int64(3), object(2)\n",
      "memory usage: 15.2+ KB\n"
     ]
    }
   ],
   "source": [
    "import pandas as pd\n",
    "import researchpy as rp\n",
    "import statsmodels.api as sm\n",
    "import scipy.stats as stats\n",
    "\n",
    "\n",
    "df = pd.read_csv(\"http://www-personal.umich.edu/~bwest/rat_pup.dat\", sep = \"\\t\")\n",
    "df.info()"
   ]
  },
  {
   "cell_type": "code",
   "execution_count": 12,
   "id": "eb6f03d5",
   "metadata": {},
   "outputs": [
    {
     "name": "stdout",
     "output_type": "stream",
     "text": [
      "Variable: pup_id    Data Type: int64 \n",
      "\n",
      " Number of Obs.: 322 \n",
      " Number of missing obs.: 0 \n",
      " Percent missing: 0.0 \n",
      " Number of unique values: 322 \n",
      "\n",
      " Range: [1, 322] \n",
      " Mean: 161.5 \n",
      " Standard Deviation: 93.1 \n",
      " Mode: 1 \n",
      " 10th Percentile: 33.1 \n",
      " 25th Percentile: 81.25 \n",
      " 50th Percentile: 161.5 \n",
      " 75th Percentile: 241.75 \n",
      " 90th Percentile: 289.90000000000003 \n",
      "\n",
      "\n",
      "\n",
      "\n",
      "\n",
      "Variable: weight    Data Type: float64 \n",
      "\n",
      " Number of Obs.: 322 \n",
      " Number of missing obs.: 0 \n",
      " Percent missing: 0.0 \n",
      " Number of unique values: 173 \n",
      "\n",
      " Range: [3.68, 8.33] \n",
      " Mean: 6.08 \n",
      " Standard Deviation: 0.65 \n",
      " Mode: 6.29 \n",
      " 10th Percentile: 5.331 \n",
      " 25th Percentile: 5.65 \n",
      " 50th Percentile: 6.055 \n",
      " 75th Percentile: 6.3975 \n",
      " 90th Percentile: 6.9590000000000005 \n",
      "\n",
      "\n",
      "\n",
      "\n",
      "\n",
      "Variable: sex    Data Type: object \n",
      "\n",
      " Number of Obs.: 322 \n",
      " Number of missing obs.: 0 \n",
      " Percent missing: 0.0 \n",
      " Number of unique values: 2 \n",
      "\n",
      " Data Values and Counts: \n",
      " \n",
      " Values  Frequency\n",
      "Female        151\n",
      "  Male        171\n",
      "\n",
      "\n",
      "\n",
      "\n",
      "Variable: litter    Data Type: int64 \n",
      "\n",
      " Number of Obs.: 322 \n",
      " Number of missing obs.: 0 \n",
      " Percent missing: 0.0 \n",
      " Number of unique values: 27 \n",
      "\n",
      " Range: [1, 27] \n",
      " Mean: 13.38 \n",
      " Standard Deviation: 7.39 \n",
      " Mode: 7 \n",
      " 10th Percentile: 4.0 \n",
      " 25th Percentile: 7.0 \n",
      " 50th Percentile: 13.5 \n",
      " 75th Percentile: 19.75 \n",
      " 90th Percentile: 24.0 \n",
      "\n",
      "\n",
      "\n",
      "\n",
      "\n",
      "Variable: litsize    Data Type: int64 \n",
      "\n",
      " Number of Obs.: 322 \n",
      " Number of missing obs.: 0 \n",
      " Percent missing: 0.0 \n",
      " Number of unique values: 13 \n",
      "\n",
      " Range: [2, 18] \n",
      " Mean: 13.33 \n",
      " Standard Deviation: 3.13 \n",
      " Mode: 14 \n",
      " 10th Percentile: 9.0 \n",
      " 25th Percentile: 12.0 \n",
      " 50th Percentile: 14.0 \n",
      " 75th Percentile: 16.0 \n",
      " 90th Percentile: 17.0 \n",
      "\n",
      "\n",
      "\n",
      "\n",
      "\n",
      "Variable: treatment    Data Type: object \n",
      "\n",
      " Number of Obs.: 322 \n",
      " Number of missing obs.: 0 \n",
      " Percent missing: 0.0 \n",
      " Number of unique values: 3 \n",
      "\n",
      " Data Values and Counts: \n",
      " \n",
      "  Values  Frequency\n",
      "Control        131\n",
      "   High         65\n",
      "    Low        126\n",
      "\n",
      "\n",
      "\n",
      "\n"
     ]
    }
   ],
   "source": [
    "rp.codebook(df)"
   ]
  },
  {
   "cell_type": "code",
   "execution_count": 13,
   "id": "883ab288",
   "metadata": {},
   "outputs": [
    {
     "name": "stdout",
     "output_type": "stream",
     "text": [
      "\n",
      "\n"
     ]
    },
    {
     "data": {
      "text/html": [
       "<div>\n",
       "<style scoped>\n",
       "    .dataframe tbody tr th:only-of-type {\n",
       "        vertical-align: middle;\n",
       "    }\n",
       "\n",
       "    .dataframe tbody tr th {\n",
       "        vertical-align: top;\n",
       "    }\n",
       "\n",
       "    .dataframe thead th {\n",
       "        text-align: right;\n",
       "    }\n",
       "</style>\n",
       "<table border=\"1\" class=\"dataframe\">\n",
       "  <thead>\n",
       "    <tr style=\"text-align: right;\">\n",
       "      <th></th>\n",
       "      <th></th>\n",
       "      <th>N</th>\n",
       "      <th>Mean</th>\n",
       "      <th>SD</th>\n",
       "      <th>SE</th>\n",
       "      <th>95% Conf.</th>\n",
       "      <th>Interval</th>\n",
       "    </tr>\n",
       "    <tr>\n",
       "      <th>treatment</th>\n",
       "      <th>sex</th>\n",
       "      <th></th>\n",
       "      <th></th>\n",
       "      <th></th>\n",
       "      <th></th>\n",
       "      <th></th>\n",
       "      <th></th>\n",
       "    </tr>\n",
       "  </thead>\n",
       "  <tbody>\n",
       "    <tr>\n",
       "      <th rowspan=\"2\" valign=\"top\">Control</th>\n",
       "      <th>Female</th>\n",
       "      <td>54</td>\n",
       "      <td>6.1161</td>\n",
       "      <td>0.6851</td>\n",
       "      <td>0.0932</td>\n",
       "      <td>5.9291</td>\n",
       "      <td>6.3031</td>\n",
       "    </tr>\n",
       "    <tr>\n",
       "      <th>Male</th>\n",
       "      <td>77</td>\n",
       "      <td>6.4710</td>\n",
       "      <td>0.7538</td>\n",
       "      <td>0.0859</td>\n",
       "      <td>6.3000</td>\n",
       "      <td>6.6421</td>\n",
       "    </tr>\n",
       "    <tr>\n",
       "      <th rowspan=\"2\" valign=\"top\">High</th>\n",
       "      <th>Female</th>\n",
       "      <td>32</td>\n",
       "      <td>5.8516</td>\n",
       "      <td>0.6002</td>\n",
       "      <td>0.1061</td>\n",
       "      <td>5.6352</td>\n",
       "      <td>6.0680</td>\n",
       "    </tr>\n",
       "    <tr>\n",
       "      <th>Male</th>\n",
       "      <td>33</td>\n",
       "      <td>5.9185</td>\n",
       "      <td>0.6909</td>\n",
       "      <td>0.1203</td>\n",
       "      <td>5.6735</td>\n",
       "      <td>6.1635</td>\n",
       "    </tr>\n",
       "    <tr>\n",
       "      <th rowspan=\"2\" valign=\"top\">Low</th>\n",
       "      <th>Female</th>\n",
       "      <td>65</td>\n",
       "      <td>5.8375</td>\n",
       "      <td>0.4505</td>\n",
       "      <td>0.0559</td>\n",
       "      <td>5.7259</td>\n",
       "      <td>5.9492</td>\n",
       "    </tr>\n",
       "    <tr>\n",
       "      <th>Male</th>\n",
       "      <td>61</td>\n",
       "      <td>6.0251</td>\n",
       "      <td>0.3803</td>\n",
       "      <td>0.0487</td>\n",
       "      <td>5.9277</td>\n",
       "      <td>6.1225</td>\n",
       "    </tr>\n",
       "  </tbody>\n",
       "</table>\n",
       "</div>"
      ],
      "text/plain": [
       "                   N    Mean      SD      SE  95% Conf.  Interval\n",
       "treatment sex                                                    \n",
       "Control   Female  54  6.1161  0.6851  0.0932     5.9291    6.3031\n",
       "          Male    77  6.4710  0.7538  0.0859     6.3000    6.6421\n",
       "High      Female  32  5.8516  0.6002  0.1061     5.6352    6.0680\n",
       "          Male    33  5.9185  0.6909  0.1203     5.6735    6.1635\n",
       "Low       Female  65  5.8375  0.4505  0.0559     5.7259    5.9492\n",
       "          Male    61  6.0251  0.3803  0.0487     5.9277    6.1225"
      ]
     },
     "execution_count": 13,
     "metadata": {},
     "output_type": "execute_result"
    }
   ],
   "source": [
    "rp.summary_cont(df.groupby([\"treatment\", \"sex\"])[\"weight\"])"
   ]
  },
  {
   "cell_type": "markdown",
   "id": "36829da2",
   "metadata": {},
   "source": [
    "## Check Assumptions for MLM"
   ]
  },
  {
   "cell_type": "code",
   "execution_count": 27,
   "id": "7d23fcff",
   "metadata": {
    "scrolled": true
   },
   "outputs": [
    {
     "name": "stderr",
     "output_type": "stream",
     "text": [
      "/opt/anaconda3/lib/python3.9/site-packages/seaborn/distributions.py:2619: FutureWarning: `distplot` is a deprecated function and will be removed in a future version. Please adapt your code to use either `displot` (a figure-level function with similar flexibility) or `kdeplot` (an axes-level function for kernel density plots).\n",
      "  warnings.warn(msg, FutureWarning)\n"
     ]
    },
    {
     "data": {
      "text/plain": [
       "Text(0.5, 0, 'Residuals')"
      ]
     },
     "execution_count": 27,
     "metadata": {},
     "output_type": "execute_result"
    },
    {
     "data": {
      "image/png": "[encoded data removed]",
      "text/plain": [
       "<Figure size 1152x648 with 1 Axes>"
      ]
     },
     "metadata": {
      "needs_background": "light"
     },
     "output_type": "display_data"
    }
   ],
   "source": [
    "# Check normality of residuals with KDE plot\n",
    "from matplotlib import pyplot as plt\n",
    "import seaborn as sns\n",
    "\n",
    "fig = plt.figure(figsize = (16, 9))\n",
    "\n",
    "ax = sns.distplot(model.resid, hist = False, kde_kws = {\"shade\" : True, \"lw\": 1}, fit = stats.norm)\n",
    "\n",
    "ax.set_title(\"KDE Plot of Model Residuals (Blue) and Normal Distribution (Black)\")\n",
    "ax.set_xlabel(\"Residuals\")"
   ]
  },
  {
   "cell_type": "code",
   "execution_count": 28,
   "id": "97d5d73a",
   "metadata": {},
   "outputs": [
    {
     "data": {
      "text/plain": [
       "Text(0.5, 1.0, 'Q-Q Plot')"
      ]
     },
     "execution_count": 28,
     "metadata": {},
     "output_type": "execute_result"
    },
    {
     "data": {
      "image/png": "[encoded data removed]",
      "text/plain": [
       "<Figure size 1152x648 with 1 Axes>"
      ]
     },
     "metadata": {
      "needs_background": "light"
     },
     "output_type": "display_data"
    }
   ],
   "source": [
    "## Q-Q PLot\n",
    "\n",
    "fig = plt.figure(figsize = (16, 9))\n",
    "ax = fig.add_subplot(111)\n",
    "\n",
    "sm.qqplot(model.resid, dist = stats.norm, line = 's', ax = ax)\n",
    "\n",
    "ax.set_title(\"Q-Q Plot\")"
   ]
  },
  {
   "cell_type": "code",
   "execution_count": 29,
   "id": "6eac807b",
   "metadata": {},
   "outputs": [
    {
     "name": "stdout",
     "output_type": "stream",
     "text": [
      "Statistic 0.8948183655738831\n",
      "p-value 3.958863266503507e-14\n"
     ]
    }
   ],
   "source": [
    "# Shapier-Wilk test of normality\n",
    "labels = [\"Statistic\", \"p-value\"]\n",
    "\n",
    "norm_res = stats.shapiro(model.resid)\n",
    "\n",
    "for key, val in dict(zip(labels, norm_res)).items():\n",
    "    print(key, val)"
   ]
  },
  {
   "cell_type": "markdown",
   "id": "f317fbc4",
   "metadata": {},
   "source": [
    "## Check for Homoskedasticity of Variance"
   ]
  },
  {
   "cell_type": "code",
   "execution_count": 30,
   "id": "604900d7",
   "metadata": {},
   "outputs": [
    {
     "data": {
      "text/plain": [
       "Text(0, 0.5, 'Residuals')"
      ]
     },
     "execution_count": 30,
     "metadata": {},
     "output_type": "execute_result"
    },
    {
     "data": {
      "image/png": "[encoded data removed]",
      "text/plain": [
       "<Figure size 1152x648 with 1 Axes>"
      ]
     },
     "metadata": {
      "needs_background": "light"
     },
     "output_type": "display_data"
    }
   ],
   "source": [
    "# RVF Plot (residuals versus fitted values)\n",
    "fig = plt.figure(figsize = (16, 9))\n",
    "\n",
    "ax = sns.scatterplot(y = model.resid, x = model.fittedvalues)\n",
    "\n",
    "ax.set_title(\"RVF Plot\")\n",
    "ax.set_xlabel(\"Fitted Values\")\n",
    "ax.set_ylabel(\"Residuals\")"
   ]
  },
  {
   "cell_type": "code",
   "execution_count": 31,
   "id": "58fd5707",
   "metadata": {},
   "outputs": [
    {
     "data": {
      "text/plain": [
       "Text(0.5, 0, 'Litter')"
      ]
     },
     "execution_count": 31,
     "metadata": {},
     "output_type": "execute_result"
    },
    {
     "data": {
      "image/png": "[encoded data removed]",
      "text/plain": [
       "<Figure size 1152x648 with 1 Axes>"
      ]
     },
     "metadata": {
      "needs_background": "light"
     },
     "output_type": "display_data"
    }
   ],
   "source": [
    "# boxplot of residuals\n",
    "fig = plt.figure(figsize = (16, 9))\n",
    "\n",
    "ax = sns.boxplot(x = model.model.groups, y = model.resid)\n",
    "\n",
    "ax.set_title(\"Distribution of Residuals for Weight by Litter\")\n",
    "ax.set_ylabel(\"Residuals\")\n",
    "ax.set_xlabel(\"Litter\")"
   ]
  },
  {
   "cell_type": "code",
   "execution_count": 32,
   "id": "02d1a058",
   "metadata": {},
   "outputs": [
    {
     "name": "stdout",
     "output_type": "stream",
     "text": [
      "LM Statistic 24.85952621090681\n",
      "LM-Test p-value 0.0056182250407703135\n",
      "F-Statistic 2.601904935064354\n",
      "F-Test p-value 0.00479471523000681\n"
     ]
    }
   ],
   "source": [
    "# White's Lagrange Multiplier Test for Heteroscedasticity\n",
    "from statsmodels.stats.diagnostic import het_white\n",
    "\n",
    "het_white_res = het_white(model.resid, model.model.exog)\n",
    "\n",
    "labels = [\"LM Statistic\", \"LM-Test p-value\", \"F-Statistic\", \"F-Test p-value\"]\n",
    "\n",
    "for key, val in dict(zip(labels, het_white_res)).items():\n",
    "    print(key, val)"
   ]
  },
  {
   "cell_type": "markdown",
   "id": "d7f643ff",
   "metadata": {},
   "source": [
    "## Model Statistics and Visualizations"
   ]
  },
  {
   "cell_type": "code",
   "execution_count": 14,
   "id": "d0636fbb",
   "metadata": {},
   "outputs": [
    {
     "name": "stderr",
     "output_type": "stream",
     "text": [
      "/var/folders/xc/1yxv29253_19pst1hxznjt8m0000gn/T/ipykernel_71645/1681907886.py:9: UserWarning: Matplotlib is currently using module://matplotlib_inline.backend_inline, which is a non-GUI backend, so cannot show the figure.\n",
      "  boxplot.figure.show()\n"
     ]
    },
    {
     "data": {
      "image/png": "[encoded data removed]",
      "text/plain": [
       "<Figure size 1152x648 with 1 Axes>"
      ]
     },
     "metadata": {
      "needs_background": "light"
     },
     "output_type": "display_data"
    }
   ],
   "source": [
    "boxplot = df.boxplot([\"weight\"], by = [\"treatment\", \"sex\"],\n",
    "                     figsize = (16, 9),\n",
    "                     showmeans = True,\n",
    "                     notch = True)\n",
    "\n",
    "boxplot.set_xlabel(\"Categories\")\n",
    "boxplot.set_ylabel(\"Weight\")\n",
    "\n",
    "boxplot.figure.show()"
   ]
  },
  {
   "cell_type": "code",
   "execution_count": 15,
   "id": "f886b5e9",
   "metadata": {},
   "outputs": [
    {
     "data": {
      "text/html": [
       "<table class=\"simpletable\">\n",
       "<tr>\n",
       "       <td>Model:</td>       <td>MixedLM</td> <td>Dependent Variable:</td>  <td>weight</td>  \n",
       "</tr>\n",
       "<tr>\n",
       "  <td>No. Observations:</td>   <td>322</td>         <td>Method:</td>         <td>REML</td>   \n",
       "</tr>\n",
       "<tr>\n",
       "     <td>No. Groups:</td>      <td>27</td>          <td>Scale:</td>         <td>0.1635</td>  \n",
       "</tr>\n",
       "<tr>\n",
       "  <td>Min. group size:</td>     <td>2</td>      <td>Log-Likelihood:</td>   <td>-200.5522</td>\n",
       "</tr>\n",
       "<tr>\n",
       "  <td>Max. group size:</td>    <td>18</td>        <td>Converged:</td>         <td>Yes</td>   \n",
       "</tr>\n",
       "<tr>\n",
       "  <td>Mean group size:</td>   <td>11.9</td>            <td></td>               <td></td>     \n",
       "</tr>\n",
       "</table>\n",
       "<table class=\"simpletable\">\n",
       "<tr>\n",
       "                              <td></td>                              <th>Coef.</th> <th>Std.Err.</th>    <th>z</th>   <th>P>|z|</th> <th>[0.025</th> <th>0.975]</th>\n",
       "</tr>\n",
       "<tr>\n",
       "  <th>Intercept</th>                                                 <td>8.323</td>   <td>0.273</td>  <td>30.447</td> <td>0.000</td>  <td>7.788</td>  <td>8.859</td>\n",
       "</tr>\n",
       "<tr>\n",
       "  <th>C(treatment)[T.High]</th>                                     <td>-0.906</td>   <td>0.192</td>  <td>-4.727</td> <td>0.000</td> <td>-1.282</td> <td>-0.530</td>\n",
       "</tr>\n",
       "<tr>\n",
       "  <th>C(treatment)[T.Low]</th>                                      <td>-0.467</td>   <td>0.158</td>  <td>-2.952</td> <td>0.003</td> <td>-0.777</td> <td>-0.157</td>\n",
       "</tr>\n",
       "<tr>\n",
       "  <th>C(sex, Treatment('Male'))[T.Female]</th>                      <td>-0.412</td>   <td>0.073</td>  <td>-5.625</td> <td>0.000</td> <td>-0.555</td> <td>-0.268</td>\n",
       "</tr>\n",
       "<tr>\n",
       "  <th>C(treatment)[T.High]:C(sex, Treatment('Male'))[T.Female]</th>  <td>0.107</td>   <td>0.132</td>   <td>0.811</td> <td>0.417</td> <td>-0.151</td>  <td>0.366</td>\n",
       "</tr>\n",
       "<tr>\n",
       "  <th>C(treatment)[T.Low]:C(sex, Treatment('Male'))[T.Female]</th>   <td>0.084</td>   <td>0.106</td>   <td>0.794</td> <td>0.427</td> <td>-0.123</td>  <td>0.291</td>\n",
       "</tr>\n",
       "<tr>\n",
       "  <th>litsize</th>                                                  <td>-0.128</td>   <td>0.019</td>  <td>-6.845</td> <td>0.000</td> <td>-0.165</td> <td>-0.092</td>\n",
       "</tr>\n",
       "<tr>\n",
       "  <th>litter Var</th>                                                <td>0.097</td>   <td>0.084</td>     <td></td>      <td></td>       <td></td>       <td></td>   \n",
       "</tr>\n",
       "</table>"
      ],
      "text/plain": [
       "<class 'statsmodels.iolib.summary2.Summary'>\n",
       "\"\"\"\n",
       "                               Mixed Linear Model Regression Results\n",
       "===================================================================================================\n",
       "Model:                            MixedLM               Dependent Variable:               weight   \n",
       "No. Observations:                 322                   Method:                           REML     \n",
       "No. Groups:                       27                    Scale:                            0.1635   \n",
       "Min. group size:                  2                     Log-Likelihood:                   -200.5522\n",
       "Max. group size:                  18                    Converged:                        Yes      \n",
       "Mean group size:                  11.9                                                             \n",
       "---------------------------------------------------------------------------------------------------\n",
       "                                                         Coef.  Std.Err.   z    P>|z| [0.025 0.975]\n",
       "---------------------------------------------------------------------------------------------------\n",
       "Intercept                                                 8.323    0.273 30.447 0.000  7.788  8.859\n",
       "C(treatment)[T.High]                                     -0.906    0.192 -4.727 0.000 -1.282 -0.530\n",
       "C(treatment)[T.Low]                                      -0.467    0.158 -2.952 0.003 -0.777 -0.157\n",
       "C(sex, Treatment('Male'))[T.Female]                      -0.412    0.073 -5.625 0.000 -0.555 -0.268\n",
       "C(treatment)[T.High]:C(sex, Treatment('Male'))[T.Female]  0.107    0.132  0.811 0.417 -0.151  0.366\n",
       "C(treatment)[T.Low]:C(sex, Treatment('Male'))[T.Female]   0.084    0.106  0.794 0.427 -0.123  0.291\n",
       "litsize                                                  -0.128    0.019 -6.845 0.000 -0.165 -0.092\n",
       "litter Var                                                0.097    0.084                           \n",
       "===================================================================================================\n",
       "\n",
       "\"\"\""
      ]
     },
     "execution_count": 15,
     "metadata": {},
     "output_type": "execute_result"
    }
   ],
   "source": [
    "import statsmodels.formula.api as smf\n",
    "\n",
    "model = smf.mixedlm(\"weight ~ litsize + C(treatment) + C(sex, Treatment('Male')) + C(treatment):C(sex, Treatment('Male'))\",\n",
    "                    df,\n",
    "                    groups= \"litter\").fit()\n",
    "\n",
    "model.summary()"
   ]
  },
  {
   "cell_type": "code",
   "execution_count": 17,
   "id": "b9b06c9a",
   "metadata": {},
   "outputs": [
    {
     "name": "stdout",
     "output_type": "stream",
     "text": [
      "0.31144823004794875\n"
     ]
    }
   ],
   "source": [
    "# Convert variance to standard deviation by taking the square root\n",
    "import math\n",
    "\n",
    "stddev = math.sqrt(0.097) # enter value from the table\n",
    "print(stddev)"
   ]
  },
  {
   "cell_type": "code",
   "execution_count": 18,
   "id": "14ccdc56",
   "metadata": {},
   "outputs": [
    {
     "data": {
      "text/html": [
       "<table class=\"simpletable\">\n",
       "<tr>\n",
       "       <td>Model:</td>       <td>MixedLM</td> <td>Dependent Variable:</td>  <td>weight</td>  \n",
       "</tr>\n",
       "<tr>\n",
       "  <td>No. Observations:</td>   <td>322</td>         <td>Method:</td>         <td>REML</td>   \n",
       "</tr>\n",
       "<tr>\n",
       "     <td>No. Groups:</td>      <td>27</td>          <td>Scale:</td>         <td>0.1628</td>  \n",
       "</tr>\n",
       "<tr>\n",
       "  <td>Min. group size:</td>     <td>2</td>      <td>Log-Likelihood:</td>   <td>-198.4997</td>\n",
       "</tr>\n",
       "<tr>\n",
       "  <td>Max. group size:</td>    <td>18</td>        <td>Converged:</td>         <td>Yes</td>   \n",
       "</tr>\n",
       "<tr>\n",
       "  <td>Mean group size:</td>   <td>11.9</td>            <td></td>               <td></td>     \n",
       "</tr>\n",
       "</table>\n",
       "<table class=\"simpletable\">\n",
       "<tr>\n",
       "                   <td></td>                    <th>Coef.</th> <th>Std.Err.</th>    <th>z</th>   <th>P>|z|</th> <th>[0.025</th> <th>0.975]</th>\n",
       "</tr>\n",
       "<tr>\n",
       "  <th>Intercept</th>                            <td>8.310</td>   <td>0.274</td>  <td>30.355</td> <td>0.000</td>  <td>7.773</td>  <td>8.846</td>\n",
       "</tr>\n",
       "<tr>\n",
       "  <th>C(treatment)[T.High]</th>                <td>-0.859</td>   <td>0.182</td>  <td>-4.722</td> <td>0.000</td> <td>-1.215</td> <td>-0.502</td>\n",
       "</tr>\n",
       "<tr>\n",
       "  <th>C(treatment)[T.Low]</th>                 <td>-0.429</td>   <td>0.150</td>  <td>-2.849</td> <td>0.004</td> <td>-0.723</td> <td>-0.134</td>\n",
       "</tr>\n",
       "<tr>\n",
       "  <th>C(sex, Treatment('Male'))[T.Female]</th> <td>-0.359</td>   <td>0.048</td>  <td>-7.540</td> <td>0.000</td> <td>-0.452</td> <td>-0.266</td>\n",
       "</tr>\n",
       "<tr>\n",
       "  <th>litsize</th>                             <td>-0.129</td>   <td>0.019</td>  <td>-6.863</td> <td>0.000</td> <td>-0.166</td> <td>-0.092</td>\n",
       "</tr>\n",
       "<tr>\n",
       "  <th>litter Var</th>                           <td>0.097</td>   <td>0.085</td>     <td></td>      <td></td>       <td></td>       <td></td>   \n",
       "</tr>\n",
       "</table>"
      ],
      "text/plain": [
       "<class 'statsmodels.iolib.summary2.Summary'>\n",
       "\"\"\"\n",
       "                    Mixed Linear Model Regression Results\n",
       "==============================================================================\n",
       "Model:                     MixedLM        Dependent Variable:        weight   \n",
       "No. Observations:          322            Method:                    REML     \n",
       "No. Groups:                27             Scale:                     0.1628   \n",
       "Min. group size:           2              Log-Likelihood:            -198.4997\n",
       "Max. group size:           18             Converged:                 Yes      \n",
       "Mean group size:           11.9                                               \n",
       "------------------------------------------------------------------------------\n",
       "                                    Coef.  Std.Err.   z    P>|z| [0.025 0.975]\n",
       "------------------------------------------------------------------------------\n",
       "Intercept                            8.310    0.274 30.355 0.000  7.773  8.846\n",
       "C(treatment)[T.High]                -0.859    0.182 -4.722 0.000 -1.215 -0.502\n",
       "C(treatment)[T.Low]                 -0.429    0.150 -2.849 0.004 -0.723 -0.134\n",
       "C(sex, Treatment('Male'))[T.Female] -0.359    0.048 -7.540 0.000 -0.452 -0.266\n",
       "litsize                             -0.129    0.019 -6.863 0.000 -0.166 -0.092\n",
       "litter Var                           0.097    0.085                           \n",
       "==============================================================================\n",
       "\n",
       "\"\"\""
      ]
     },
     "execution_count": 18,
     "metadata": {},
     "output_type": "execute_result"
    }
   ],
   "source": [
    "# Random Intercept Model w/out Interaction Term\n",
    "\n",
    "model = smf.mixedlm(\"weight ~ litsize + C(treatment) + C(sex, Treatment('Male'))\", df, groups= \"litter\").fit()\n",
    "\n",
    "model.summary()"
   ]
  },
  {
   "cell_type": "code",
   "execution_count": 19,
   "id": "f8116174",
   "metadata": {},
   "outputs": [
    {
     "name": "stdout",
     "output_type": "stream",
     "text": [
      "0.5958230958230959\n"
     ]
    }
   ],
   "source": [
    "# Calculate the ICC by taking the variance of the clustering variable and the unexplained variance of the model\n",
    "icc = 0.097/0.1628 # enter values from the table\n",
    "print(icc)"
   ]
  },
  {
   "cell_type": "code",
   "execution_count": 33,
   "id": "76618127",
   "metadata": {},
   "outputs": [
    {
     "data": {
      "text/html": [
       "<table class=\"simpletable\">\n",
       "<tr>\n",
       "       <td>Model:</td>       <td>MixedLM</td> <td>Dependent Variable:</td>  <td>weight</td>  \n",
       "</tr>\n",
       "<tr>\n",
       "  <td>No. Observations:</td>   <td>322</td>         <td>Method:</td>         <td>REML</td>   \n",
       "</tr>\n",
       "<tr>\n",
       "     <td>No. Groups:</td>      <td>27</td>          <td>Scale:</td>         <td>0.1565</td>  \n",
       "</tr>\n",
       "<tr>\n",
       "  <td>Min. group size:</td>     <td>2</td>      <td>Log-Likelihood:</td>   <td>-205.7020</td>\n",
       "</tr>\n",
       "<tr>\n",
       "  <td>Max. group size:</td>    <td>18</td>        <td>Converged:</td>         <td>Yes</td>   \n",
       "</tr>\n",
       "<tr>\n",
       "  <td>Mean group size:</td>   <td>11.9</td>            <td></td>               <td></td>     \n",
       "</tr>\n",
       "</table>\n",
       "<table class=\"simpletable\">\n",
       "<tr>\n",
       "            <td></td>            <th>Coef.</th> <th>Std.Err.</th>    <th>z</th>   <th>P>|z|</th> <th>[0.025</th> <th>0.975]</th>\n",
       "</tr>\n",
       "<tr>\n",
       "  <th>Intercept</th>             <td>7.874</td>   <td>0.229</td>  <td>34.380</td> <td>0.000</td>  <td>7.425</td>  <td>8.323</td>\n",
       "</tr>\n",
       "<tr>\n",
       "  <th>C(treatment)[T.High]</th> <td>-0.839</td>   <td>0.144</td>  <td>-5.827</td> <td>0.000</td> <td>-1.121</td> <td>-0.557</td>\n",
       "</tr>\n",
       "<tr>\n",
       "  <th>C(treatment)[T.Low]</th>  <td>-0.411</td>   <td>0.116</td>  <td>-3.526</td> <td>0.000</td> <td>-0.639</td> <td>-0.182</td>\n",
       "</tr>\n",
       "<tr>\n",
       "  <th>C(sex)[T.Male]</th>        <td>0.356</td>   <td>0.102</td>   <td>3.508</td> <td>0.000</td>  <td>0.157</td>  <td>0.555</td>\n",
       "</tr>\n",
       "<tr>\n",
       "  <th>litsize</th>              <td>-0.124</td>   <td>0.016</td>  <td>-7.915</td> <td>0.000</td> <td>-0.155</td> <td>-0.093</td>\n",
       "</tr>\n",
       "<tr>\n",
       "  <th>sex Var</th>               <td>0.104</td>   <td>0.076</td>     <td></td>      <td></td>       <td></td>       <td></td>   \n",
       "</tr>\n",
       "</table>"
      ],
      "text/plain": [
       "<class 'statsmodels.iolib.summary2.Summary'>\n",
       "\"\"\"\n",
       "             Mixed Linear Model Regression Results\n",
       "===============================================================\n",
       "Model:                MixedLM   Dependent Variable:   weight   \n",
       "No. Observations:     322       Method:               REML     \n",
       "No. Groups:           27        Scale:                0.1565   \n",
       "Min. group size:      2         Log-Likelihood:       -205.7020\n",
       "Max. group size:      18        Converged:            Yes      \n",
       "Mean group size:      11.9                                     \n",
       "---------------------------------------------------------------\n",
       "                     Coef.  Std.Err.   z    P>|z| [0.025 0.975]\n",
       "---------------------------------------------------------------\n",
       "Intercept             7.874    0.229 34.380 0.000  7.425  8.323\n",
       "C(treatment)[T.High] -0.839    0.144 -5.827 0.000 -1.121 -0.557\n",
       "C(treatment)[T.Low]  -0.411    0.116 -3.526 0.000 -0.639 -0.182\n",
       "C(sex)[T.Male]        0.356    0.102  3.508 0.000  0.157  0.555\n",
       "litsize              -0.124    0.016 -7.915 0.000 -0.155 -0.093\n",
       "sex Var               0.104    0.076                           \n",
       "===============================================================\n",
       "\n",
       "\"\"\""
      ]
     },
     "execution_count": 33,
     "metadata": {},
     "output_type": "execute_result"
    }
   ],
   "source": [
    "# Random Slope Model: Random intercepts and slopes are independent\n",
    "\n",
    "model2 = smf.mixedlm(\"weight ~ litsize + C(treatment) + C(sex)\", df, groups= \"litter\",\n",
    "                     vc_formula = {\"sex\" : \"0 + C(sex)\"}).fit()\n",
    "\n",
    "model2.summary()"
   ]
  },
  {
   "cell_type": "code",
   "execution_count": 35,
   "id": "c20e8ff8",
   "metadata": {},
   "outputs": [
    {
     "name": "stdout",
     "output_type": "stream",
     "text": [
      "0.668165756504979\n"
     ]
    }
   ],
   "source": [
    "# Calculate the ICC by taking the variance of the clustering variable and the unexplained variance of the model\n",
    "icc2 = 0.104/0.15565 # enter values from the table\n",
    "print(icc2)"
   ]
  },
  {
   "cell_type": "code",
   "execution_count": 34,
   "id": "a873893c",
   "metadata": {},
   "outputs": [
    {
     "data": {
      "text/html": [
       "<table class=\"simpletable\">\n",
       "<tr>\n",
       "       <td>Model:</td>       <td>MixedLM</td> <td>Dependent Variable:</td>  <td>weight</td>  \n",
       "</tr>\n",
       "<tr>\n",
       "  <td>No. Observations:</td>   <td>322</td>         <td>Method:</td>         <td>REML</td>   \n",
       "</tr>\n",
       "<tr>\n",
       "     <td>No. Groups:</td>      <td>27</td>          <td>Scale:</td>         <td>0.1601</td>  \n",
       "</tr>\n",
       "<tr>\n",
       "  <td>Min. group size:</td>     <td>2</td>      <td>Log-Likelihood:</td>   <td>-196.3946</td>\n",
       "</tr>\n",
       "<tr>\n",
       "  <td>Max. group size:</td>    <td>18</td>        <td>Converged:</td>         <td>Yes</td>   \n",
       "</tr>\n",
       "<tr>\n",
       "  <td>Mean group size:</td>   <td>11.9</td>            <td></td>               <td></td>     \n",
       "</tr>\n",
       "</table>\n",
       "<table class=\"simpletable\">\n",
       "<tr>\n",
       "               <td></td>                <th>Coef.</th> <th>Std.Err.</th>    <th>z</th>   <th>P>|z|</th> <th>[0.025</th> <th>0.975]</th>\n",
       "</tr>\n",
       "<tr>\n",
       "  <th>Intercept</th>                    <td>7.806</td>   <td>0.263</td>  <td>29.672</td> <td>0.000</td>  <td>7.291</td>  <td>8.322</td>\n",
       "</tr>\n",
       "<tr>\n",
       "  <th>C(treatment)[T.High]</th>        <td>-0.778</td>   <td>0.172</td>  <td>-4.523</td> <td>0.000</td> <td>-1.116</td> <td>-0.441</td>\n",
       "</tr>\n",
       "<tr>\n",
       "  <th>C(treatment)[T.Low]</th>         <td>-0.387</td>   <td>0.137</td>  <td>-2.821</td> <td>0.005</td> <td>-0.656</td> <td>-0.118</td>\n",
       "</tr>\n",
       "<tr>\n",
       "  <th>C(sex)[T.Male]</th>               <td>0.359</td>   <td>0.053</td>   <td>6.783</td> <td>0.000</td>  <td>0.255</td>  <td>0.463</td>\n",
       "</tr>\n",
       "<tr>\n",
       "  <th>litsize</th>                     <td>-0.120</td>   <td>0.018</td>  <td>-6.637</td> <td>0.000</td> <td>-0.155</td> <td>-0.084</td>\n",
       "</tr>\n",
       "<tr>\n",
       "  <th>litter Var</th>                   <td>0.063</td>   <td>0.074</td>     <td></td>      <td></td>       <td></td>       <td></td>   \n",
       "</tr>\n",
       "<tr>\n",
       "  <th>litter x C(sex)[T.Male] Cov</th>  <td>0.028</td>   <td>0.044</td>     <td></td>      <td></td>       <td></td>       <td></td>   \n",
       "</tr>\n",
       "<tr>\n",
       "  <th>C(sex)[T.Male] Var</th>           <td>0.013</td>   <td>0.062</td>     <td></td>      <td></td>       <td></td>       <td></td>   \n",
       "</tr>\n",
       "</table>"
      ],
      "text/plain": [
       "<class 'statsmodels.iolib.summary2.Summary'>\n",
       "\"\"\"\n",
       "                Mixed Linear Model Regression Results\n",
       "======================================================================\n",
       "Model:                 MixedLM      Dependent Variable:      weight   \n",
       "No. Observations:      322          Method:                  REML     \n",
       "No. Groups:            27           Scale:                   0.1601   \n",
       "Min. group size:       2            Log-Likelihood:          -196.3946\n",
       "Max. group size:       18           Converged:               Yes      \n",
       "Mean group size:       11.9                                           \n",
       "----------------------------------------------------------------------\n",
       "                            Coef.  Std.Err.   z    P>|z| [0.025 0.975]\n",
       "----------------------------------------------------------------------\n",
       "Intercept                    7.806    0.263 29.672 0.000  7.291  8.322\n",
       "C(treatment)[T.High]        -0.778    0.172 -4.523 0.000 -1.116 -0.441\n",
       "C(treatment)[T.Low]         -0.387    0.137 -2.821 0.005 -0.656 -0.118\n",
       "C(sex)[T.Male]               0.359    0.053  6.783 0.000  0.255  0.463\n",
       "litsize                     -0.120    0.018 -6.637 0.000 -0.155 -0.084\n",
       "litter Var                   0.063    0.074                           \n",
       "litter x C(sex)[T.Male] Cov  0.028    0.044                           \n",
       "C(sex)[T.Male] Var           0.013    0.062                           \n",
       "======================================================================\n",
       "\n",
       "\"\"\""
      ]
     },
     "execution_count": 34,
     "metadata": {},
     "output_type": "execute_result"
    }
   ],
   "source": [
    "# Random Slope Model: Random intercepts and slopes are correlated\n",
    "\n",
    "model3 = smf.mixedlm(\"weight ~ litsize + C(treatment) + C(sex)\", df, groups= \"litter\",\n",
    "                     re_formula = \"1 + C(sex)\").fit()\n",
    "\n",
    "model3.summary()"
   ]
  },
  {
   "cell_type": "code",
   "execution_count": 36,
   "id": "7497cbd1",
   "metadata": {},
   "outputs": [
    {
     "name": "stdout",
     "output_type": "stream",
     "text": [
      "0.39350405996252347\n"
     ]
    }
   ],
   "source": [
    "# Calculate the ICC by taking the variance of the clustering variable and the unexplained variance of the model\n",
    "icc3 = 0.063/0.1601 # enter values from the table\n",
    "print(icc3)"
   ]
  },
  {
   "cell_type": "code",
   "execution_count": 41,
   "id": "b5318b6f",
   "metadata": {
    "scrolled": true
   },
   "outputs": [
    {
     "name": "stdout",
     "output_type": "stream",
     "text": [
      "0.9783991809404571\n"
     ]
    }
   ],
   "source": [
    "# estimated correlation coefficient between the random intercepts and random slopes\n",
    "ecc3 = 0.028/(math.sqrt((0.063*0.013)))  # enter values from the table\n",
    "print(ecc3)"
   ]
  }
 ],
 "metadata": {
  "kernelspec": {
   "display_name": "Python 3 (ipykernel)",
   "language": "python",
   "name": "python3"
  },
  "language_info": {
   "codemirror_mode": {
    "name": "ipython",
    "version": 3
   },
   "file_extension": ".py",
   "mimetype": "text/x-python",
   "name": "python",
   "nbconvert_exporter": "python",
   "pygments_lexer": "ipython3",
   "version": "3.9.12"
  }
 },
 "nbformat": 4,
 "nbformat_minor": 5
}
